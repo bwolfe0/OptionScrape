{
 "cells": [
  {
   "cell_type": "code",
   "execution_count": 1,
   "metadata": {},
   "outputs": [],
   "source": [
    "from Functions.polygon_scrape import *\n",
    "from Functions.RF_Funcs import *\n",
    "import pandas as pd\n",
    "import numpy as np\n",
    "from secret import polygon_key\n",
    "from datetime import datetime, date\n",
    "import polygon as pg\n",
    "import warnings\n",
    "warnings.filterwarnings('ignore')\n",
    "import time"
   ]
  },
  {
   "cell_type": "code",
   "execution_count": 2,
   "metadata": {},
   "outputs": [],
   "source": [
    "import pandas_market_calendars as mcal\n",
    "nyse = mcal.get_calendar('NYSE')\n",
    "start_date = '2020-01-01'\n",
    "end_date = '2023-12-31'\n",
    "schedule = nyse.schedule(start_date=start_date, end_date=end_date)\n",
    "trading_days = schedule['market_open'].dt.date.tolist()"
   ]
  },
  {
   "attachments": {},
   "cell_type": "markdown",
   "metadata": {},
   "source": [
    "### Acquire Model Predictions"
   ]
  },
  {
   "cell_type": "code",
   "execution_count": 3,
   "metadata": {},
   "outputs": [],
   "source": [
    "# data = pd.read_csv('Treasury.csv')\n",
    "\n",
    "# X = data[['RV_(t-1)','RV_t Weekly', 'RV_t Monthly',\n",
    "#           'r_(t-1)', 'r_t Weekly', 'r_t Monthly',\n",
    "#           'VIX Close (t-1)', '1MT (t-1)']]\n",
    "# Y = data['RV_t (Realized Variance)']\n",
    "\n",
    "# X['1MT (t-1)'] = pd.to_numeric(X['1MT (t-1)'], errors='coerce')\n",
    "# X['1MT (t-1)'] = X['1MT (t-1)'].fillna((X['1MT (t-1)'].shift(+1) + X['1MT (t-1)'].shift(-1)) / 2)\n",
    "\n",
    "# op = RollingWindowRF(X,Y,data['date'])\n",
    "# pred = np.sqrt(op['predictions'].loc['values'])*np.sqrt(365)"
   ]
  },
  {
   "attachments": {},
   "cell_type": "markdown",
   "metadata": {},
   "source": [
    "### Import data to avoid long runtime"
   ]
  },
  {
   "cell_type": "code",
   "execution_count": 3,
   "metadata": {},
   "outputs": [
    {
     "name": "stdout",
     "output_type": "stream",
     "text": [
      "0.13223407478542387\n"
     ]
    }
   ],
   "source": [
    "pred = pd.read_csv('predictions.csv').set_index('date')['values']\n",
    "print(np.average(pred))"
   ]
  },
  {
   "attachments": {},
   "cell_type": "markdown",
   "metadata": {},
   "source": [
    "### Deploy the Option Strategy Using the Prediction"
   ]
  },
  {
   "cell_type": "code",
   "execution_count": 4,
   "metadata": {},
   "outputs": [],
   "source": [
    "data = pd.read_csv('Treasury.csv')"
   ]
  },
  {
   "attachments": {},
   "cell_type": "markdown",
   "metadata": {},
   "source": [
    "Dates where Tu, Th expiry options are NOT available"
   ]
  },
  {
   "cell_type": "code",
   "execution_count": 5,
   "metadata": {},
   "outputs": [
    {
     "name": "stdout",
     "output_type": "stream",
     "text": [
      "8/12/22: {'Profit': 294.948385210142, 'Investment': 468.8252801028862}\n",
      "8/15/22: Data Not Found\n",
      "8/16/22: {'Profit': -1.4654418935466822, 'Investment': 39.58134774120297}\n",
      "8/17/22: Data Not Found\n",
      "8/18/22: {'Profit': -146.55649714544023, 'Investment': 126.97819285202009}\n",
      "8/19/22: {'Profit': -5987.310371427113, 'Investment': 4417.9620128798415}\n",
      "8/22/22: Data Not Found\n",
      "8/23/22: {'Profit': 56.963196812984066, 'Investment': 73.66470549818449}\n",
      "8/24/22: Data Not Found\n",
      "8/25/22: {'Profit': -141.5032515100578, 'Investment': 68.61383005377459}\n",
      "8/26/22: {'Profit': 2.8319054629442673, 'Investment': 6.000089696647396}\n",
      "8/29/22: Data Not Found\n",
      "8/30/22: {'Profit': 23.77891601424836, 'Investment': 65.44585600543628}\n",
      "8/31/22: Data Not Found\n",
      "9/1/22: {'Profit': 2.38834218696978, 'Investment': 13.75351910853782}\n",
      "9/2/22: {'Profit': 2214.5923323434095, 'Investment': 2883.2196816696955}\n",
      "9/6/22: {'Profit': -334.4073319069166, 'Investment': 643.046937829198}\n",
      "9/7/22: Data Not Found\n",
      "9/8/22: {'Profit': -124.88254780346807, 'Investment': 141.75696514106681}\n",
      "9/9/22: {'Profit': -67.38206849698463, 'Investment': 1119.696505754629}\n",
      "9/12/22: Data Not Found\n",
      "9/13/22: {'Profit': 19.321674357576114, 'Investment': 22.931090176912758}\n",
      "9/14/22: Data Not Found\n",
      "9/15/22: {'Profit': -5.283647229649674, 'Investment': 108.6712120994037}\n",
      "9/16/22: {'Profit': 4090.4293894587663, 'Investment': 9843.149223948938}\n",
      "9/19/22: Data Not Found\n",
      "9/20/22: {'Profit': 32.372223067062464, 'Investment': 212.7474443978677}\n",
      "9/21/22: Data Not Found\n",
      "9/22/22: {'Profit': 37.04046744291432, 'Investment': 193.57616919726615}\n",
      "9/23/22: {'Profit': 829.5232759508999, 'Investment': 1941.3003110269394}\n"
     ]
    }
   ],
   "source": [
    "dates = data['date'].iloc[-250:-220]\n",
    "\n",
    "res = []\n",
    "\n",
    "for date in dates:\n",
    "    try:\n",
    "        res.append(OptionStrategy(model_estimate=pred[date],date=datetime.strptime(date,'%m/%d/%y').date(), trading_days=trading_days))\n",
    "    except LookupError:\n",
    "        res.append('Data Not Found')\n",
    "    print(f'{date}: {res[-1]}')\n",
    "    time.sleep(62)"
   ]
  },
  {
   "attachments": {},
   "cell_type": "markdown",
   "metadata": {},
   "source": [
    "Dates where M-F expiry options ARE available"
   ]
  },
  {
   "cell_type": "code",
   "execution_count": 6,
   "metadata": {},
   "outputs": [
    {
     "name": "stdout",
     "output_type": "stream",
     "text": [
      "11/21/22: {'Profit': -1.8923188672908586, 'Investment': 2.074198743249799}\n",
      "11/22/22: {'Profit': 15.386626531654798, 'Investment': 57.81962196720342}\n",
      "11/23/22: {'Profit': -15.44514989992795, 'Investment': 15.44514989992795}\n",
      "11/25/22: {'Profit': -291.2249067346175, 'Investment': 191.49707250387343}\n",
      "11/28/22: {'Profit': 275.6632872902714, 'Investment': 275.6632872902714}\n",
      "11/29/22: {'Profit': -928.4366349045295, 'Investment': 442.82771463561227}\n",
      "11/30/22: {'Profit': 56.80312106208814, 'Investment': 56.80312106208814}\n",
      "12/1/22: {'Profit': 6.539167206289468, 'Investment': 6.6946315503567035}\n",
      "12/2/22: {'Profit': -227.324123708408, 'Investment': 98.68181102044107}\n",
      "12/5/22: {'Profit': -1197.0124410651836, 'Investment': 1115.4586108342103}\n",
      "12/6/22: {'Profit': 44.7954453011827, 'Investment': 44.7954453011827}\n",
      "12/7/22: {'Profit': 13.041652388287119, 'Investment': 121.27248162927853}\n",
      "12/8/22: {'Profit': 1.5267224126292849, 'Investment': 4.44284525156762}\n",
      "12/9/22: {'Profit': -1218.7563561413447, 'Investment': 1413.1751836743153}\n",
      "12/12/22: {'Profit': 1263.4379004027783, 'Investment': 1785.703984438416}\n",
      "12/13/22: {'Profit': 1667.9862524174428, 'Investment': 2256.7325418231794}\n",
      "12/14/22: {'Profit': -5.6180860376348045, 'Investment': 5.688083261633085}\n",
      "12/15/22: {'Profit': -109.81649150650509, 'Investment': 287.8194541574572}\n",
      "12/16/22: {'Profit': 11.075841901144443, 'Investment': 54.232289121862955}\n",
      "12/19/22: {'Profit': 407.1325564907463, 'Investment': 407.1325564907463}\n",
      "12/20/22: {'Profit': -33.1092643655076, 'Investment': 48.45006817041077}\n",
      "12/21/22: {'Profit': -28.01410566696852, 'Investment': 46.759546606950266}\n",
      "12/22/22: {'Profit': 18.819525832120103, 'Investment': 36.548943162149754}\n",
      "12/23/22: {'Profit': 97.70500916194982, 'Investment': 131.69858471912883}\n",
      "12/27/22: {'Profit': -156.42724181206836, 'Investment': 291.84639036591756}\n",
      "12/28/22: {'Profit': -243.6507973767115, 'Investment': 209.08678900843975}\n",
      "12/29/22: {'Profit': 25.35530757481144, 'Investment': 31.758726619213192}\n",
      "12/30/22: {'Profit': 190.60897823352803, 'Investment': 268.28885084685913}\n",
      "1/3/23: {'Profit': 16.64111378036069, 'Investment': 44.487988060810515}\n",
      "1/4/23: {'Profit': -91.05086725658506, 'Investment': 187.972490022325}\n"
     ]
    }
   ],
   "source": [
    "dates = data['date'].iloc[-180:-150]\n",
    "\n",
    "res = []\n",
    "\n",
    "for date in dates:\n",
    "    try:\n",
    "        res.append(OptionStrategy(model_estimate=pred[date],date=datetime.strptime(date,'%m/%d/%y').date(), trading_days=trading_days))\n",
    "    except LookupError:\n",
    "        res.append('Data Not Found')\n",
    "    print(f'{date}: {res[-1]}')\n",
    "    time.sleep(62)"
   ]
  }
 ],
 "metadata": {
  "kernelspec": {
   "display_name": "Python 3",
   "language": "python",
   "name": "python3"
  },
  "language_info": {
   "codemirror_mode": {
    "name": "ipython",
    "version": 3
   },
   "file_extension": ".py",
   "mimetype": "text/x-python",
   "name": "python",
   "nbconvert_exporter": "python",
   "pygments_lexer": "ipython3",
   "version": "3.10.2"
  },
  "orig_nbformat": 4,
  "vscode": {
   "interpreter": {
    "hash": "aee8b7b246df8f9039afb4144a1f6fd8d2ca17a180786b69acc140d282b71a49"
   }
  }
 },
 "nbformat": 4,
 "nbformat_minor": 2
}
