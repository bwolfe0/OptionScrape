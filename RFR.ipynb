{
 "cells": [
  {
   "cell_type": "code",
   "execution_count": 1,
   "metadata": {},
   "outputs": [],
   "source": [
    "from Functions.polygon_scrape import *\n",
    "from Functions.RF_Funcs import *\n",
    "import pandas as pd\n",
    "import numpy as np\n",
    "from secret import polygon_key\n",
    "from datetime import datetime, date\n",
    "import polygon as pg\n",
    "import warnings\n",
    "warnings.filterwarnings('ignore')\n",
    "import time"
   ]
  },
  {
   "cell_type": "code",
   "execution_count": 2,
   "metadata": {},
   "outputs": [],
   "source": [
    "import pandas_market_calendars as mcal\n",
    "nyse = mcal.get_calendar('NYSE')\n",
    "start_date = '2020-01-01'\n",
    "end_date = '2023-12-31'\n",
    "schedule = nyse.schedule(start_date=start_date, end_date=end_date)\n",
    "trading_days = schedule['market_open'].dt.date.tolist()"
   ]
  },
  {
   "attachments": {},
   "cell_type": "markdown",
   "metadata": {},
   "source": [
    "### Acquire Model Predictions"
   ]
  },
  {
   "cell_type": "code",
   "execution_count": 3,
   "metadata": {},
   "outputs": [],
   "source": [
    "# data = pd.read_csv('Treasury.csv')\n",
    "\n",
    "# X = data[['RV_(t-1)','RV_t Weekly', 'RV_t Monthly',\n",
    "#           'r_(t-1)', 'r_t Weekly', 'r_t Monthly',\n",
    "#           'VIX Close (t-1)', '1MT (t-1)']]\n",
    "# Y = data['RV_t (Realized Variance)']\n",
    "\n",
    "# X['1MT (t-1)'] = pd.to_numeric(X['1MT (t-1)'], errors='coerce')\n",
    "# X['1MT (t-1)'] = X['1MT (t-1)'].fillna((X['1MT (t-1)'].shift(+1) + X['1MT (t-1)'].shift(-1)) / 2)\n",
    "\n",
    "# op = RollingWindowRF(X,Y,data['date'])\n",
    "# pred = np.sqrt(op['predictions'].loc['values'])*np.sqrt(365)"
   ]
  },
  {
   "attachments": {},
   "cell_type": "markdown",
   "metadata": {},
   "source": [
    "### Import data to avoid long runtime"
   ]
  },
  {
   "cell_type": "code",
   "execution_count": 3,
   "metadata": {},
   "outputs": [
    {
     "name": "stdout",
     "output_type": "stream",
     "text": [
      "0.13223407478542387\n"
     ]
    }
   ],
   "source": [
    "pred = pd.read_csv('predictions.csv').set_index('date')['values']\n",
    "print(np.average(pred))"
   ]
  },
  {
   "attachments": {},
   "cell_type": "markdown",
   "metadata": {},
   "source": [
    "### Deploy the Option Strategy Using the Prediction"
   ]
  },
  {
   "cell_type": "code",
   "execution_count": 4,
   "metadata": {},
   "outputs": [],
   "source": [
    "data = pd.read_csv('Treasury.csv')"
   ]
  },
  {
   "attachments": {},
   "cell_type": "markdown",
   "metadata": {},
   "source": [
    "Dates where Tu, Th expiry options are NOT available"
   ]
  },
  {
   "cell_type": "code",
   "execution_count": null,
   "metadata": {},
   "outputs": [],
   "source": [
    "dates = data['date'].iloc[-250:-220]\n",
    "\n",
    "res = []\n",
    "\n",
    "for date in dates:\n",
    "    try:\n",
    "        res.append(OptionStrategy(model_estimate=pred[date],date=datetime.strptime(date,'%m/%d/%y').date(), trading_days=trading_days))\n",
    "    except LookupError:\n",
    "        res.append('Data Not Found')\n",
    "    print(f'{date}: {res[-1]}')\n",
    "    time.sleep(62)"
   ]
  },
  {
   "attachments": {},
   "cell_type": "markdown",
   "metadata": {},
   "source": [
    "Dates where M-F expiry options ARE available"
   ]
  },
  {
   "cell_type": "code",
   "execution_count": 5,
   "metadata": {},
   "outputs": [
    {
     "name": "stdout",
     "output_type": "stream",
     "text": [
      "11/21/22: {'Profit': -2.59, 'Investment': 2.84, 'Return': '-91.39%', 'Results': {'Stock close': 394.59, 'Stock close next': 399.9, 'Call close': 1.42, 'Put close': 1.13, 'Avg IV': 0.18331678994465167}, '# Calls': 1.109, '# Puts': 1.119}\n",
      "11/22/22: {'Profit': 0.62, 'Investment': 2.34, 'Return': '26.58%', 'Results': {'Stock close': 399.9, 'Stock close next': 402.42, 'Call close': 1.47, 'Put close': 1.14, 'Avg IV': 0.18354528492297828}, '# Calls': 0.709, '# Puts': 1.136}\n",
      "11/23/22: {'Profit': -2.22, 'Investment': 2.22, 'Return': '-100.0%', 'Results': {'Stock close': 402.42, 'Stock close next': 402.33, 'Call close': 0.9, 'Put close': 0.86, 'Avg IV': 0.13234160530145422}, '# Calls': 1.399, '# Puts': 1.12}\n",
      "11/25/22: {'Profit': -4.21, 'Investment': 2.76, 'Return': '-152.78%', 'Results': {'Stock close': 402.33, 'Stock close next': 395.91, 'Call close': 0.98, 'Put close': 1.12, 'Avg IV': 0.15277180056563877}, '# Calls': 1.506, '# Puts': 1.144}\n",
      "11/28/22: {'Profit': 16.83, 'Investment': 16.83, 'Return': '100.0%', 'Results': {'Stock close': 395.91, 'Stock close next': 395.23, 'Call close': 1.68, 'Put close': 0.94, 'Avg IV': 0.1855175423700171}, '# Calls': 5.594, '# Puts': 7.908}\n",
      "11/29/22: {'Profit': -8.22, 'Investment': 3.94, 'Return': '-208.72%', 'Results': {'Stock close': 395.23, 'Stock close next': 407.68, 'Call close': 1.83, 'Put close': 2.28, 'Avg IV': 0.2779354754095914}, '# Calls': 1.04, '# Puts': 0.892}\n",
      "11/30/22: {'Profit': 5.48, 'Investment': 5.48, 'Return': '100.0%', 'Results': {'Stock close': 407.68, 'Stock close next': 407.38, 'Call close': 1.8, 'Put close': 1.4, 'Avg IV': 0.21574280654331035}, '# Calls': 1.644, '# Puts': 1.801}\n",
      "12/1/22: {'Profit': 14.46, 'Investment': 14.8, 'Return': '97.67%', 'Results': {'Stock close': 407.38, 'Stock close next': 406.91, 'Call close': 1.76, 'Put close': 2, 'Avg IV': 0.2492453034249755}, '# Calls': 4.06, '# Puts': 3.83}\n",
      "12/2/22: {'Profit': -135026.14, 'Investment': 62426.38, 'Return': '-216.3%', 'Results': {'Stock close': 406.91, 'Stock close next': 399.59, 'Call close': 1.16, 'Put close': 1.25, 'Avg IV': 0.1687549837643406}, '# Calls': 20629.994, '# Puts': 30803.824}\n",
      "12/5/22: {'Profit': -3.52, 'Investment': 3.22, 'Return': '-109.35%', 'Results': {'Stock close': 399.59, 'Stock close next': 393.83, 'Call close': 1.35, 'Put close': 1.25, 'Avg IV': 0.18411749744030254}, '# Calls': 1.177, '# Puts': 1.303}\n",
      "12/6/22: {'Profit': 2.35, 'Investment': 2.35, 'Return': '100.0%', 'Results': {'Stock close': 393.83, 'Stock close next': 393.16, 'Call close': 1.7, 'Put close': 1.34, 'Avg IV': 0.21312276428391663}, '# Calls': 0.659, '# Puts': 0.916}\n",
      "12/7/22: {'Profit': 1.34, 'Investment': 11.98, 'Return': '11.2%', 'Results': {'Stock close': 393.16, 'Stock close next': 396.24, 'Call close': 1.3, 'Put close': 1.7, 'Avg IV': 0.21118197257982507}, '# Calls': 4.75, '# Puts': 3.417}\n",
      "12/8/22: {'Profit': 2.49, 'Investment': 7.31, 'Return': '34.1%', 'Results': {'Stock close': 396.24, 'Stock close next': 393.28, 'Call close': 1.72, 'Put close': 2.02, 'Avg IV': 0.25480950541937797}, '# Calls': 2.17, '# Puts': 1.771}\n",
      "12/9/22: {'Profit': -2.11, 'Investment': 2.39, 'Return': '-88.42%', 'Results': {'Stock close': 393.28, 'Stock close next': 398.95, 'Call close': 1.44, 'Put close': 1.55, 'Avg IV': 0.210905996031608}, '# Calls': 0.91, '# Puts': 0.697}\n",
      "12/12/22: {'Profit': 6.19, 'Investment': 8.76, 'Return': '70.68%', 'Results': {'Stock close': 398.95, 'Stock close next': 401.97, 'Call close': 4.55, 'Put close': 4.59, 'Avg IV': 0.5780313496181738}, '# Calls': 0.865, '# Puts': 1.052}\n",
      "12/13/22: {'Profit': 3.19, 'Investment': 4.32, 'Return': '73.94%', 'Results': {'Stock close': 401.97, 'Stock close next': 399.4, 'Call close': 3.64, 'Put close': 3.21, 'Avg IV': 0.43676563693030623}, '# Calls': 0.566, '# Puts': 0.703}\n",
      "12/14/22: {'Profit': -9.16, 'Investment': 9.27, 'Return': '-98.79%', 'Results': {'Stock close': 399.4, 'Stock close next': 389.63, 'Call close': 2.45, 'Put close': 1.58, 'Avg IV': 0.27045839491665136}, '# Calls': 2.517, '# Puts': 1.967}\n",
      "12/15/22: {'Profit': -5686.09, 'Investment': 15296.47, 'Return': '-37.17%', 'Results': {'Stock close': 389.63, 'Stock close next': 383.27, 'Call close': 1.26, 'Put close': 3.2, 'Avg IV': 0.30398113776150293}, '# Calls': 2841.836, '# Puts': 3661.878}\n",
      "12/16/22: {'Profit': 2.42, 'Investment': 11.94, 'Return': '20.3%', 'Results': {'Stock close': 383.27, 'Stock close next': 380.02, 'Call close': 1.51, 'Put close': 2.13, 'Avg IV': 0.2571398622454812}, '# Calls': 3.404, '# Puts': 3.194}\n",
      "12/19/22: {'Profit': 2.63, 'Investment': 2.63, 'Return': '100.0%', 'Results': {'Stock close': 380.02, 'Stock close next': 380.54, 'Call close': 1.12, 'Put close': 1.86, 'Avg IV': 0.21637726096527285}, '# Calls': 1.127, '# Puts': 0.735}\n",
      "12/20/22: {'Profit': -4.68, 'Investment': 6.82, 'Return': '-68.72%', 'Results': {'Stock close': 380.54, 'Stock close next': 386.23, 'Call close': 1.42, 'Put close': 1.52, 'Avg IV': 0.21499520505736514}, '# Calls': 2.199, '# Puts': 2.43}\n",
      "12/21/22: {'Profit': -11833.57, 'Investment': 17014.75, 'Return': '-69.55%', 'Results': {'Stock close': 386.23, 'Stock close next': 380.72, 'Call close': 1.47, 'Put close': 1.1, 'Avg IV': 0.18853419603677268}, '# Calls': 7487.883, '# Puts': 5463.697}\n",
      "12/22/22: {'Profit': 3.05, 'Investment': 5.94, 'Return': '51.3%', 'Results': {'Stock close': 380.72, 'Stock close next': 382.91, 'Call close': 1.6, 'Put close': 1.75, 'Avg IV': 0.24067072446162377}, '# Calls': 1.516, '# Puts': 2.012}\n",
      "12/23/22: {'Profit': 1.65, 'Investment': 2.22, 'Return': '74.19%', 'Results': {'Stock close': 382.91, 'Stock close next': 381.4, 'Call close': 1.55, 'Put close': 1.34, 'Avg IV': 0.20952000943008967}, '# Calls': 0.608, '# Puts': 0.956}\n",
      "12/27/22: {'Profit': -1.66, 'Investment': 3.07, 'Return': '-53.95%', 'Results': {'Stock close': 381.4, 'Stock close next': 376.66, 'Call close': 1.31, 'Put close': 1.2, 'Avg IV': 0.18727620892828248}, '# Calls': 1.348, '# Puts': 1.091}\n",
      "12/28/22: {'Profit': -7.19, 'Investment': 6.19, 'Return': '-116.24%', 'Results': {'Stock close': 376.66, 'Stock close next': 383.44, 'Call close': 1.83, 'Put close': 1.18, 'Avg IV': 0.22125868100705703}, '# Calls': 2.077, '# Puts': 2.022}\n",
      "12/29/22: {'Profit': 2.46, 'Investment': 3.08, 'Return': '79.78%', 'Results': {'Stock close': 383.44, 'Stock close next': 382.43, 'Call close': 1.33, 'Put close': 1.41, 'Avg IV': 0.20078228861451178}, '# Calls': 1.158, '# Puts': 1.093}\n",
      "12/30/22: {'Profit': 10.7, 'Investment': 15.07, 'Return': '71.01%', 'Results': {'Stock close': 382.43, 'Stock close next': 380.82, 'Call close': 2.05, 'Put close': 1.57, 'Avg IV': 0.25670895560704154}, '# Calls': 4.516, '# Puts': 3.702}\n",
      "1/3/23: {'Profit': 1.16, 'Investment': 3.11, 'Return': '37.33%', 'Results': {'Stock close': 380.82, 'Stock close next': 383.76, 'Call close': 1.79, 'Put close': 1.87, 'Avg IV': 0.25998897421608946}, '# Calls': 0.706, '# Puts': 0.988}\n",
      "1/4/23: {'Profit': -1.95, 'Investment': 4.03, 'Return': '-48.37%', 'Results': {'Stock close': 383.76, 'Stock close next': 379.38, 'Call close': 1.49, 'Put close': 1.36, 'Avg IV': 0.20710680635610812}, '# Calls': 1.196, '# Puts': 1.65}\n"
     ]
    }
   ],
   "source": [
    "dates = data['date'].iloc[-180:-150]\n",
    "\n",
    "res = []\n",
    "\n",
    "for date in dates:\n",
    "    try:\n",
    "        res.append(OptionStrategy(model_estimate=pred[date],date=datetime.strptime(date,'%m/%d/%y').date(), trading_days=trading_days))\n",
    "    except LookupError:\n",
    "        res.append('Data Not Found')\n",
    "    print(f'{date}: {res[-1]}')\n",
    "    time.sleep(62)"
   ]
  },
  {
   "cell_type": "code",
   "execution_count": null,
   "metadata": {},
   "outputs": [],
   "source": []
  }
 ],
 "metadata": {
  "kernelspec": {
   "display_name": "Python 3",
   "language": "python",
   "name": "python3"
  },
  "language_info": {
   "codemirror_mode": {
    "name": "ipython",
    "version": 3
   },
   "file_extension": ".py",
   "mimetype": "text/x-python",
   "name": "python",
   "nbconvert_exporter": "python",
   "pygments_lexer": "ipython3",
   "version": "3.10.2"
  },
  "orig_nbformat": 4,
  "vscode": {
   "interpreter": {
    "hash": "aee8b7b246df8f9039afb4144a1f6fd8d2ca17a180786b69acc140d282b71a49"
   }
  }
 },
 "nbformat": 4,
 "nbformat_minor": 2
}
