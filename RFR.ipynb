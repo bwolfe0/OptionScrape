{
 "cells": [
  {
   "cell_type": "code",
   "execution_count": 1,
   "metadata": {},
   "outputs": [],
   "source": [
    "import sys\n",
    "sys.path.append('/Users/benwolfe/Desktop/OneDrive/Python')\n",
    "from OptionsData.poly_scrape_single_day import *\n",
    "from RollingWindow_RandomForestRegression.RF_Funcs import *\n",
    "import pandas as pd\n",
    "import numpy as np\n",
    "from secret import polygon_key\n",
    "from datetime import datetime, date\n",
    "import polygon as pg\n",
    "import warnings\n",
    "warnings.filterwarnings('ignore')\n",
    "import time"
   ]
  },
  {
   "cell_type": "code",
   "execution_count": 2,
   "metadata": {},
   "outputs": [],
   "source": [
    "import pandas_market_calendars as mcal\n",
    "nyse = mcal.get_calendar('NYSE')\n",
    "start_date = '2020-01-01'\n",
    "end_date = '2023-12-31'\n",
    "schedule = nyse.schedule(start_date=start_date, end_date=end_date)\n",
    "trading_days = schedule['market_open'].dt.date.tolist()"
   ]
  },
  {
   "attachments": {},
   "cell_type": "markdown",
   "metadata": {},
   "source": [
    "### Acquire Model Predictions"
   ]
  },
  {
   "cell_type": "code",
   "execution_count": 3,
   "metadata": {},
   "outputs": [],
   "source": [
    "# data = pd.read_csv('Treasury.csv')\n",
    "\n",
    "# X = data[['RV_(t-1)','RV_t Weekly', 'RV_t Monthly',\n",
    "#           'r_(t-1)', 'r_t Weekly', 'r_t Monthly',\n",
    "#           'VIX Close (t-1)', '1MT (t-1)']]\n",
    "# Y = data['RV_t (Realized Variance)']\n",
    "\n",
    "# X['1MT (t-1)'] = pd.to_numeric(X['1MT (t-1)'], errors='coerce')\n",
    "# X['1MT (t-1)'] = X['1MT (t-1)'].fillna((X['1MT (t-1)'].shift(+1) + X['1MT (t-1)'].shift(-1)) / 2)\n",
    "\n",
    "# op = RollingWindowRF(X,Y,data['date'])\n",
    "# pred = np.sqrt(op['predictions'].loc['values'])*np.sqrt(365)"
   ]
  },
  {
   "cell_type": "code",
   "execution_count": 4,
   "metadata": {},
   "outputs": [
    {
     "name": "stdout",
     "output_type": "stream",
     "text": [
      "0.13223407478542387\n"
     ]
    }
   ],
   "source": [
    "#Import data to avoid long runtime\n",
    "\n",
    "pred = pd.read_csv('predictions.csv').set_index('date')['values']\n",
    "print(np.average(pred))"
   ]
  },
  {
   "attachments": {},
   "cell_type": "markdown",
   "metadata": {},
   "source": [
    "### Deploy the Option Strategy Using the Prediction"
   ]
  },
  {
   "cell_type": "code",
   "execution_count": 16,
   "metadata": {},
   "outputs": [],
   "source": [
    "model_estimate = pred['9/8/22']"
   ]
  },
  {
   "cell_type": "code",
   "execution_count": 18,
   "metadata": {},
   "outputs": [
    {
     "data": {
      "text/plain": [
       "{'Profit': -65.17558314040386, 'Investment': 100.55195609617496}"
      ]
     },
     "execution_count": 18,
     "metadata": {},
     "output_type": "execute_result"
    }
   ],
   "source": [
    "OptionStrategy(model_estimate=model_estimate,date=date(2022,9,8), trading_days=trading_days)"
   ]
  }
 ],
 "metadata": {
  "kernelspec": {
   "display_name": "Python 3",
   "language": "python",
   "name": "python3"
  },
  "language_info": {
   "codemirror_mode": {
    "name": "ipython",
    "version": 3
   },
   "file_extension": ".py",
   "mimetype": "text/x-python",
   "name": "python",
   "nbconvert_exporter": "python",
   "pygments_lexer": "ipython3",
   "version": "3.10.2"
  },
  "orig_nbformat": 4,
  "vscode": {
   "interpreter": {
    "hash": "aee8b7b246df8f9039afb4144a1f6fd8d2ca17a180786b69acc140d282b71a49"
   }
  }
 },
 "nbformat": 4,
 "nbformat_minor": 2
}
