{
 "cells": [
  {
   "cell_type": "code",
   "execution_count": 1,
   "metadata": {},
   "outputs": [],
   "source": [
    "from Functions.polygon_scrape import *\n",
    "from Functions.RF_Funcs import *\n",
    "import pandas as pd\n",
    "import numpy as np\n",
    "from secret import polygon_key\n",
    "from datetime import datetime, date\n",
    "import polygon as pg\n",
    "import warnings\n",
    "warnings.filterwarnings('ignore')\n",
    "import time"
   ]
  },
  {
   "cell_type": "code",
   "execution_count": 2,
   "metadata": {},
   "outputs": [],
   "source": [
    "import pandas_market_calendars as mcal\n",
    "nyse = mcal.get_calendar('NYSE')\n",
    "start_date = '2020-01-01'\n",
    "end_date = '2023-12-31'\n",
    "schedule = nyse.schedule(start_date=start_date, end_date=end_date)\n",
    "trading_days = schedule['market_open'].dt.date.tolist()"
   ]
  },
  {
   "attachments": {},
   "cell_type": "markdown",
   "metadata": {},
   "source": [
    "### Acquire Model Predictions"
   ]
  },
  {
   "cell_type": "code",
   "execution_count": 3,
   "metadata": {},
   "outputs": [],
   "source": [
    "# data = pd.read_csv('Treasury.csv')\n",
    "\n",
    "# X = data[['RV_(t-1)','RV_t Weekly', 'RV_t Monthly',\n",
    "#           'r_(t-1)', 'r_t Weekly', 'r_t Monthly',\n",
    "#           'VIX Close (t-1)', '1MT (t-1)']]\n",
    "# Y = data['RV_t (Realized Variance)']\n",
    "\n",
    "# X['1MT (t-1)'] = pd.to_numeric(X['1MT (t-1)'], errors='coerce')\n",
    "# X['1MT (t-1)'] = X['1MT (t-1)'].fillna((X['1MT (t-1)'].shift(+1) + X['1MT (t-1)'].shift(-1)) / 2)\n",
    "\n",
    "# op = RollingWindowRF(X,Y,data['date'])\n",
    "# pred = np.sqrt(op['predictions'].loc['values'])*np.sqrt(365)"
   ]
  },
  {
   "attachments": {},
   "cell_type": "markdown",
   "metadata": {},
   "source": [
    "### Import data to avoid long runtime"
   ]
  },
  {
   "cell_type": "code",
   "execution_count": 3,
   "metadata": {},
   "outputs": [
    {
     "name": "stdout",
     "output_type": "stream",
     "text": [
      "0.13223407478542387\n"
     ]
    }
   ],
   "source": [
    "pred = pd.read_csv('predictions.csv').set_index('date')['values']\n",
    "print(np.average(pred))"
   ]
  },
  {
   "attachments": {},
   "cell_type": "markdown",
   "metadata": {},
   "source": [
    "### Deploy the Option Strategy Using the Prediction"
   ]
  },
  {
   "cell_type": "code",
   "execution_count": 4,
   "metadata": {},
   "outputs": [],
   "source": [
    "data = pd.read_csv('Treasury.csv')"
   ]
  },
  {
   "attachments": {},
   "cell_type": "markdown",
   "metadata": {},
   "source": [
    "Dates where Tu, Th expiry options are NOT available"
   ]
  },
  {
   "cell_type": "code",
   "execution_count": null,
   "metadata": {},
   "outputs": [],
   "source": [
    "dates = data['date'].iloc[-250:-220]\n",
    "\n",
    "res = []\n",
    "\n",
    "for date in dates:\n",
    "    try:\n",
    "        res.append(OptionStrategy(model_estimate=pred[date],date=datetime.strptime(date,'%m/%d/%y').date(), trading_days=trading_days))\n",
    "    except LookupError:\n",
    "        res.append('Data Not Found')\n",
    "    print(f'{date}: {res[-1]}')\n",
    "    time.sleep(62)"
   ]
  },
  {
   "attachments": {},
   "cell_type": "markdown",
   "metadata": {},
   "source": [
    "Dates where M-F expiry options ARE available"
   ]
  },
  {
   "cell_type": "code",
   "execution_count": 5,
   "metadata": {},
   "outputs": [
    {
     "name": "stdout",
     "output_type": "stream",
     "text": [
      "11/21/22: {'Profit': -2.34, 'Investment': 2.56, 'Return': '-91.39%', 'Results': {'Stock close': 394.59, 'Stock close next': 399.9, 'Call close': 1.42, 'Put close': 1.13, 'Avg IV': 0.18331678994465167}, '# Calls': 1, '# Puts': 1.009}\n",
      "11/22/22: {'Profit': 0.88, 'Investment': 3.3, 'Return': '26.58%', 'Results': {'Stock close': 399.9, 'Stock close next': 402.42, 'Call close': 1.47, 'Put close': 1.14, 'Avg IV': 0.18354528492297828}, '# Calls': 1, '# Puts': 1.602}\n",
      "11/23/22: {'Profit': -1.59, 'Investment': 1.59, 'Return': '-100.0%', 'Results': {'Stock close': 402.42, 'Stock close next': 402.33, 'Call close': 0.9, 'Put close': 0.86, 'Avg IV': 0.13234160530145422}, '# Calls': 1, '# Puts': 0.801}\n",
      "11/25/22: {'Profit': -2.8, 'Investment': 1.83, 'Return': '-152.78%', 'Results': {'Stock close': 402.33, 'Stock close next': 395.91, 'Call close': 0.98, 'Put close': 1.12, 'Avg IV': 0.15277180056563877}, '# Calls': 1, '# Puts': 0.76}\n",
      "11/28/22: {'Profit': 3.01, 'Investment': 3.01, 'Return': '100.0%', 'Results': {'Stock close': 395.91, 'Stock close next': 395.23, 'Call close': 1.68, 'Put close': 0.94, 'Avg IV': 0.1855175423700171}, '# Calls': 1, '# Puts': 1.414}\n",
      "11/29/22: {'Profit': -7.9, 'Investment': 3.78, 'Return': '-208.72%', 'Results': {'Stock close': 395.23, 'Stock close next': 407.68, 'Call close': 1.83, 'Put close': 2.28, 'Avg IV': 0.2779354754095914}, '# Calls': 1, '# Puts': 0.857}\n",
      "11/30/22: {'Profit': 3.33, 'Investment': 3.33, 'Return': '100.0%', 'Results': {'Stock close': 407.68, 'Stock close next': 407.38, 'Call close': 1.8, 'Put close': 1.4, 'Avg IV': 0.21574280654331035}, '# Calls': 1, '# Puts': 1.095}\n",
      "12/1/22: {'Profit': 3.56, 'Investment': 3.65, 'Return': '97.67%', 'Results': {'Stock close': 407.38, 'Stock close next': 406.91, 'Call close': 1.76, 'Put close': 2, 'Avg IV': 0.2492453034249755}, '# Calls': 1, '# Puts': 0.943}\n",
      "12/2/22: {'Profit': -6.55, 'Investment': 3.03, 'Return': '-216.3%', 'Results': {'Stock close': 406.91, 'Stock close next': 399.59, 'Call close': 1.16, 'Put close': 1.25, 'Avg IV': 0.1687549837643406}, '# Calls': 1, '# Puts': 1.493}\n",
      "12/5/22: {'Profit': -2.99, 'Investment': 2.73, 'Return': '-109.35%', 'Results': {'Stock close': 399.59, 'Stock close next': 393.83, 'Call close': 1.35, 'Put close': 1.25, 'Avg IV': 0.18411749744030254}, '# Calls': 1, '# Puts': 1.107}\n",
      "12/6/22: {'Profit': 3.56, 'Investment': 3.56, 'Return': '100.0%', 'Results': {'Stock close': 393.83, 'Stock close next': 393.16, 'Call close': 1.7, 'Put close': 1.34, 'Avg IV': 0.21312276428391663}, '# Calls': 1, '# Puts': 1.391}\n",
      "12/7/22: {'Profit': 0.28, 'Investment': 2.52, 'Return': '11.2%', 'Results': {'Stock close': 393.16, 'Stock close next': 396.24, 'Call close': 1.3, 'Put close': 1.7, 'Avg IV': 0.21118197257982507}, '# Calls': 1, '# Puts': 0.719}\n",
      "12/8/22: {'Profit': 1.15, 'Investment': 3.37, 'Return': '34.1%', 'Results': {'Stock close': 396.24, 'Stock close next': 393.28, 'Call close': 1.72, 'Put close': 2.02, 'Avg IV': 0.25480950541937797}, '# Calls': 1, '# Puts': 0.816}\n",
      "12/9/22: {'Profit': -2.32, 'Investment': 2.63, 'Return': '-88.42%', 'Results': {'Stock close': 393.28, 'Stock close next': 398.95, 'Call close': 1.44, 'Put close': 1.55, 'Avg IV': 0.210905996031608}, '# Calls': 1, '# Puts': 0.766}\n",
      "12/12/22: {'Profit': 7.16, 'Investment': 10.13, 'Return': '70.68%', 'Results': {'Stock close': 398.95, 'Stock close next': 401.97, 'Call close': 4.55, 'Put close': 4.59, 'Avg IV': 0.5780313496181738}, '# Calls': 1, '# Puts': 1.216}\n",
      "12/13/22: {'Profit': 5.64, 'Investment': 7.63, 'Return': '73.94%', 'Results': {'Stock close': 401.97, 'Stock close next': 399.4, 'Call close': 3.64, 'Put close': 3.21, 'Avg IV': 0.43676563693030623}, '# Calls': 1, '# Puts': 1.242}\n",
      "12/14/22: {'Profit': -3.64, 'Investment': 3.68, 'Return': '-98.79%', 'Results': {'Stock close': 399.4, 'Stock close next': 389.63, 'Call close': 2.45, 'Put close': 1.58, 'Avg IV': 0.27045839491665136}, '# Calls': 1, '# Puts': 0.782}\n",
      "12/15/22: {'Profit': -2.0, 'Investment': 5.38, 'Return': '-37.17%', 'Results': {'Stock close': 389.63, 'Stock close next': 383.27, 'Call close': 1.26, 'Put close': 3.2, 'Avg IV': 0.30398113776150293}, '# Calls': 1, '# Puts': 1.289}\n",
      "12/16/22: {'Profit': 0.71, 'Investment': 3.51, 'Return': '20.3%', 'Results': {'Stock close': 383.27, 'Stock close next': 380.02, 'Call close': 1.51, 'Put close': 2.13, 'Avg IV': 0.2571398622454812}, '# Calls': 1, '# Puts': 0.938}\n",
      "12/19/22: {'Profit': 2.33, 'Investment': 2.33, 'Return': '100.0%', 'Results': {'Stock close': 380.02, 'Stock close next': 380.54, 'Call close': 1.12, 'Put close': 1.86, 'Avg IV': 0.21637726096527285}, '# Calls': 1, '# Puts': 0.652}\n",
      "12/20/22: {'Profit': -2.13, 'Investment': 3.1, 'Return': '-68.72%', 'Results': {'Stock close': 380.54, 'Stock close next': 386.23, 'Call close': 1.42, 'Put close': 1.52, 'Avg IV': 0.21499520505736514}, '# Calls': 1, '# Puts': 1.105}\n",
      "12/21/22: {'Profit': -1.58, 'Investment': 2.27, 'Return': '-69.55%', 'Results': {'Stock close': 386.23, 'Stock close next': 380.72, 'Call close': 1.47, 'Put close': 1.1, 'Avg IV': 0.18853419603677268}, '# Calls': 1, '# Puts': 0.73}\n",
      "12/22/22: {'Profit': 2.01, 'Investment': 3.92, 'Return': '51.3%', 'Results': {'Stock close': 380.72, 'Stock close next': 382.91, 'Call close': 1.6, 'Put close': 1.75, 'Avg IV': 0.24067072446162377}, '# Calls': 1, '# Puts': 1.327}\n",
      "12/23/22: {'Profit': 2.71, 'Investment': 3.66, 'Return': '74.19%', 'Results': {'Stock close': 382.91, 'Stock close next': 381.4, 'Call close': 1.55, 'Put close': 1.34, 'Avg IV': 0.20952000943008967}, '# Calls': 1, '# Puts': 1.573}\n",
      "12/27/22: {'Profit': -1.23, 'Investment': 2.28, 'Return': '-53.95%', 'Results': {'Stock close': 381.4, 'Stock close next': 376.66, 'Call close': 1.31, 'Put close': 1.2, 'Avg IV': 0.18727620892828248}, '# Calls': 1, '# Puts': 0.809}\n",
      "12/28/22: {'Profit': -3.46, 'Investment': 2.98, 'Return': '-116.24%', 'Results': {'Stock close': 376.66, 'Stock close next': 383.44, 'Call close': 1.83, 'Put close': 1.18, 'Avg IV': 0.22125868100705703}, '# Calls': 1, '# Puts': 0.973}\n",
      "12/29/22: {'Profit': 2.12, 'Investment': 2.66, 'Return': '79.78%', 'Results': {'Stock close': 383.44, 'Stock close next': 382.43, 'Call close': 1.33, 'Put close': 1.41, 'Avg IV': 0.20078228861451178}, '# Calls': 1, '# Puts': 0.944}\n",
      "12/30/22: {'Profit': 2.37, 'Investment': 3.34, 'Return': '71.01%', 'Results': {'Stock close': 382.43, 'Stock close next': 380.82, 'Call close': 2.05, 'Put close': 1.57, 'Avg IV': 0.25670895560704154}, '# Calls': 1, '# Puts': 0.82}\n",
      "1/3/23: {'Profit': 1.64, 'Investment': 4.4, 'Return': '37.33%', 'Results': {'Stock close': 380.82, 'Stock close next': 383.76, 'Call close': 1.79, 'Put close': 1.87, 'Avg IV': 0.25998897421608946}, '# Calls': 1, '# Puts': 1.398}\n",
      "1/4/23: {'Profit': -1.63, 'Investment': 3.37, 'Return': '-48.37%', 'Results': {'Stock close': 383.76, 'Stock close next': 379.38, 'Call close': 1.49, 'Put close': 1.36, 'Avg IV': 0.20710680635610812}, '# Calls': 1, '# Puts': 1.379}\n"
     ]
    }
   ],
   "source": [
    "dates = data['date'].iloc[-180:-150]\n",
    "\n",
    "res = []\n",
    "\n",
    "for date in dates:\n",
    "    try:\n",
    "        res.append(OptionStrategy(model_estimate=pred[date],date=datetime.strptime(date,'%m/%d/%y').date(), trading_days=trading_days))\n",
    "    except LookupError:\n",
    "        res.append('Data Not Found')\n",
    "    print(f'{date}: {res[-1]}')\n",
    "    time.sleep(62)"
   ]
  },
  {
   "cell_type": "code",
   "execution_count": 11,
   "metadata": {},
   "outputs": [
    {
     "data": {
      "text/plain": [
       "-411.67000000000013"
      ]
     },
     "execution_count": 11,
     "metadata": {},
     "output_type": "execute_result"
    }
   ],
   "source": [
    "sum([float(d['Return'][:-1]) for d in res])"
   ]
  }
 ],
 "metadata": {
  "kernelspec": {
   "display_name": "Python 3",
   "language": "python",
   "name": "python3"
  },
  "language_info": {
   "codemirror_mode": {
    "name": "ipython",
    "version": 3
   },
   "file_extension": ".py",
   "mimetype": "text/x-python",
   "name": "python",
   "nbconvert_exporter": "python",
   "pygments_lexer": "ipython3",
   "version": "3.10.2"
  },
  "orig_nbformat": 4,
  "vscode": {
   "interpreter": {
    "hash": "aee8b7b246df8f9039afb4144a1f6fd8d2ca17a180786b69acc140d282b71a49"
   }
  }
 },
 "nbformat": 4,
 "nbformat_minor": 2
}
