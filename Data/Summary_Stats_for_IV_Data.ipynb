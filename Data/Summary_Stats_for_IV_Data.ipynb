{
 "cells": [
  {
   "cell_type": "code",
   "execution_count": 1,
   "metadata": {},
   "outputs": [],
   "source": [
    "import pandas as pd\n",
    "import numpy as np"
   ]
  },
  {
   "attachments": {},
   "cell_type": "markdown",
   "metadata": {},
   "source": [
    "The values in this file are used to manually normalize predictions in RF_funcs.py. They are used when:\n",
    "1. For IV data so that it does not need to be pulled.\n",
    "2. When the values cannot be determined in the function because only a single market estimate is provided."
   ]
  },
  {
   "attachments": {},
   "cell_type": "markdown",
   "metadata": {},
   "source": [
    "#### Market IV Data"
   ]
  },
  {
   "cell_type": "code",
   "execution_count": 6,
   "metadata": {},
   "outputs": [
    {
     "name": "stdout",
     "output_type": "stream",
     "text": [
      "Average Market IV estimate for 11/21/22 to 8/10/23: 0.1893\n",
      "Median Market IV estimate for 11/21/22 to 8/10/23: 0.1831\n",
      "Market IV estimate standard deviation for 11/21/22 to 8/10/23: 0.0723\n"
     ]
    }
   ],
   "source": [
    "x = pd.read_csv('Return_Data.csv')\n",
    "print(f'Average Market IV estimate for {x[\"date\"].iloc[0]} to {x[\"date\"].iloc[-1]}: {round(np.mean(x[\"Avg IV\"]),4)}')\n",
    "print(f'Median Market IV estimate for {x[\"date\"].iloc[0]} to {x[\"date\"].iloc[-1]}: {round(np.median(x[\"Avg IV\"]),4)}')\n",
    "print(f'Market IV estimate standard deviation for {x[\"date\"].iloc[0]} to {x[\"date\"].iloc[-1]}: {round(np.std(x[\"Avg IV\"]),4)}')"
   ]
  },
  {
   "attachments": {},
   "cell_type": "markdown",
   "metadata": {},
   "source": [
    "#### Estimate RV Stats"
   ]
  },
  {
   "cell_type": "code",
   "execution_count": 12,
   "metadata": {},
   "outputs": [],
   "source": [
    "HAR_pred = pd.read_csv('predictions_HAR.csv').iloc[-len(x):]\n",
    "RF_pred = pd.read_csv('predictions_RF.csv').iloc[-len(x):]\n",
    "RF_MAE_pred = pd.read_csv('predictions_RF_MAE.csv').iloc[-len(x):]"
   ]
  },
  {
   "attachments": {},
   "cell_type": "markdown",
   "metadata": {},
   "source": [
    "HAR"
   ]
  },
  {
   "cell_type": "code",
   "execution_count": 19,
   "metadata": {},
   "outputs": [
    {
     "name": "stdout",
     "output_type": "stream",
     "text": [
      "Average model RV estimate for 11/21/22 to 8/10/23: 0.1428\n",
      "Median model RV estimate for 11/21/22 to 8/10/23: 0.1398\n",
      "Model RV estimate standard deviation for 11/21/22 to 8/10/23: 0.0324\n"
     ]
    }
   ],
   "source": [
    "print(f\"Average model RV estimate for {HAR_pred['date'].iloc[0]} to {x['date'].iloc[-1]}: {round(np.mean(HAR_pred['values']),4)}\")\n",
    "print(f\"Median model RV estimate for {HAR_pred['date'].iloc[0]} to {x['date'].iloc[-1]}: {round(np.median(HAR_pred['values']),4)}\")\n",
    "print(f\"Model RV estimate standard deviation for {HAR_pred['date'].iloc[0]} to {x['date'].iloc[-1]}: {round(np.std(HAR_pred['values']),4)}\")"
   ]
  },
  {
   "attachments": {},
   "cell_type": "markdown",
   "metadata": {},
   "source": [
    "RF MSE"
   ]
  },
  {
   "cell_type": "code",
   "execution_count": 20,
   "metadata": {},
   "outputs": [
    {
     "name": "stdout",
     "output_type": "stream",
     "text": [
      "Average model RV estimate for 11/21/22 to 8/10/23: 0.1275\n",
      "Median model RV estimate for 11/21/22 to 8/10/23: 0.1258\n",
      "Model RV estimate standard deviation for 11/21/22 to 8/10/23: 0.0334\n"
     ]
    }
   ],
   "source": [
    "print(f\"Average model RV estimate for {RF_pred['date'].iloc[0]} to {x['date'].iloc[-1]}: {round(np.mean(RF_pred['values']),4)}\")\n",
    "print(f\"Median model RV estimate for {RF_pred['date'].iloc[0]} to {x['date'].iloc[-1]}: {round(np.median(RF_pred['values']),4)}\")\n",
    "print(f\"Model RV estimate standard deviation for {RF_pred['date'].iloc[0]} to {x['date'].iloc[-1]}: {round(np.std(RF_pred['values']),4)}\")"
   ]
  },
  {
   "attachments": {},
   "cell_type": "markdown",
   "metadata": {},
   "source": [
    "RF MAE"
   ]
  },
  {
   "cell_type": "code",
   "execution_count": 21,
   "metadata": {},
   "outputs": [
    {
     "name": "stdout",
     "output_type": "stream",
     "text": [
      "Average model RV estimate for 11/21/22 to 8/10/23: 0.1247\n",
      "Median model RV estimate for 11/21/22 to 8/10/23: 0.1276\n",
      "Model RV estimate standard deviation for 11/21/22 to 8/10/23: 0.0295\n"
     ]
    }
   ],
   "source": [
    "print(f\"Average model RV estimate for {RF_MAE_pred['date'].iloc[0]} to {x['date'].iloc[-1]}: {round(np.mean(RF_MAE_pred['values']),4)}\")\n",
    "print(f\"Median model RV estimate for {RF_MAE_pred['date'].iloc[0]} to {x['date'].iloc[-1]}: {round(np.median(RF_MAE_pred['values']),4)}\")\n",
    "print(f\"Model RV estimate standard deviation for {RF_MAE_pred['date'].iloc[0]} to {x['date'].iloc[-1]}: {round(np.std(RF_MAE_pred['values']),4)}\")"
   ]
  },
  {
   "cell_type": "code",
   "execution_count": null,
   "metadata": {},
   "outputs": [],
   "source": []
  }
 ],
 "metadata": {
  "kernelspec": {
   "display_name": "Python 3",
   "language": "python",
   "name": "python3"
  },
  "language_info": {
   "codemirror_mode": {
    "name": "ipython",
    "version": 3
   },
   "file_extension": ".py",
   "mimetype": "text/x-python",
   "name": "python",
   "nbconvert_exporter": "python",
   "pygments_lexer": "ipython3",
   "version": "3.10.2 (v3.10.2:a58ebcc701, Jan 13 2022, 14:50:16) [Clang 13.0.0 (clang-1300.0.29.30)]"
  },
  "orig_nbformat": 4,
  "vscode": {
   "interpreter": {
    "hash": "aee8b7b246df8f9039afb4144a1f6fd8d2ca17a180786b69acc140d282b71a49"
   }
  }
 },
 "nbformat": 4,
 "nbformat_minor": 2
}
