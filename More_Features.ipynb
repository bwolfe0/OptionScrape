{
 "cells": [
  {
   "cell_type": "code",
   "execution_count": 1,
   "metadata": {},
   "outputs": [],
   "source": [
    "from Functions.polygon_scrape import *\n",
    "from Functions.RF_Funcs import *\n",
    "import pandas as pd\n",
    "import numpy as np\n",
    "from secret import polygon_key\n",
    "from datetime import datetime, date\n",
    "import polygon as pg\n",
    "import warnings\n",
    "warnings.filterwarnings('ignore')\n",
    "import time"
   ]
  },
  {
   "cell_type": "code",
   "execution_count": 2,
   "metadata": {},
   "outputs": [],
   "source": [
    "import pandas_market_calendars as mcal\n",
    "nyse = mcal.get_calendar('NYSE')\n",
    "start_date = '2020-01-01'\n",
    "end_date = '2023-12-31'\n",
    "schedule = nyse.schedule(start_date=start_date, end_date=end_date)\n",
    "trading_days = schedule['market_open'].dt.date.tolist()"
   ]
  },
  {
   "cell_type": "code",
   "execution_count": 7,
   "metadata": {},
   "outputs": [],
   "source": [
    "data = pd.read_csv('Data/Treasury.csv')\n",
    "returns_data = pd.read_csv('Data/Return_Data.csv').set_index('date')\n",
    "model_estimate = pd.read_csv('Data/predictions_RF.csv').set_index('date')"
   ]
  },
  {
   "cell_type": "code",
   "execution_count": 8,
   "metadata": {},
   "outputs": [
    {
     "name": "stdout",
     "output_type": "stream",
     "text": [
      "Total return from 11/21/22-8/10/23: 1197%. Average daily return: 6.65%. Daily return variance: 91.23. Fraction of days when strategy is bought: 0.5333\n"
     ]
    }
   ],
   "source": [
    "dates = data['date'].iloc[-180:]\n",
    "\n",
    "res = RunStrategy(model_estimate,dates,trading_days,returns_data,analysis=True)"
   ]
  },
  {
   "cell_type": "code",
   "execution_count": null,
   "metadata": {},
   "outputs": [],
   "source": []
  }
 ],
 "metadata": {
  "kernelspec": {
   "display_name": "base",
   "language": "python",
   "name": "python3"
  },
  "language_info": {
   "codemirror_mode": {
    "name": "ipython",
    "version": 3
   },
   "file_extension": ".py",
   "mimetype": "text/x-python",
   "name": "python",
   "nbconvert_exporter": "python",
   "pygments_lexer": "ipython3",
   "version": "3.9.7"
  }
 },
 "nbformat": 4,
 "nbformat_minor": 2
}
