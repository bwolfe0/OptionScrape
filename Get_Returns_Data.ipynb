{
 "cells": [
  {
   "cell_type": "code",
   "execution_count": null,
   "metadata": {},
   "outputs": [],
   "source": [
    "from Functions.polygon_scrape import *\n",
    "from Functions.RF_Funcs import *\n",
    "import pandas as pd\n",
    "import numpy as np\n",
    "from secret import polygon_key\n",
    "from datetime import datetime, date\n",
    "import polygon as pg\n",
    "import warnings\n",
    "warnings.filterwarnings('ignore')\n",
    "import time"
   ]
  },
  {
   "cell_type": "code",
   "execution_count": null,
   "metadata": {},
   "outputs": [],
   "source": [
    "import pandas_market_calendars as mcal\n",
    "nyse = mcal.get_calendar('NYSE')\n",
    "start_date = '2020-01-01'\n",
    "end_date = '2023-12-31'\n",
    "schedule = nyse.schedule(start_date=start_date, end_date=end_date)\n",
    "trading_days = schedule['market_open'].dt.date.tolist()"
   ]
  },
  {
   "cell_type": "code",
   "execution_count": null,
   "metadata": {},
   "outputs": [],
   "source": [
    "data = pd.read_csv('Data/Treasury.csv')\n",
    "returns_data = pd.read_csv('Data/Return_Data.csv').set_index('date')\n",
    "model_estimate = pd.read_csv('Data/predictions_RF_MAE.csv')#.set_index('date')"
   ]
  }
 ],
 "metadata": {
  "kernelspec": {
   "display_name": "Python 3",
   "language": "python",
   "name": "python3"
  },
  "language_info": {
   "name": "python",
   "version": "3.10.2 (v3.10.2:a58ebcc701, Jan 13 2022, 14:50:16) [Clang 13.0.0 (clang-1300.0.29.30)]"
  },
  "vscode": {
   "interpreter": {
    "hash": "aee8b7b246df8f9039afb4144a1f6fd8d2ca17a180786b69acc140d282b71a49"
   }
  }
 },
 "nbformat": 4,
 "nbformat_minor": 2
}
